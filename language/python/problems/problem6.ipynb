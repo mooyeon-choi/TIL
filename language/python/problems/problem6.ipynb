{
 "cells": [
  {
   "cell_type": "markdown",
   "metadata": {},
   "source": [
    "# 메소드 없는 세상 <1>\n",
    "\n",
    "> 알파벳으로 이뤄진 word를 입력받아 알파벳 대소문자를 서로 교환한 결과를 반환하는 `my_swapcase(word)`를 작성해주세요.\n",
    "\n",
    "**`.upper()`, `.lower()`, `swapcase()`는 사용하지 말아주세요.**\n",
    "\n",
    "**Tip! 문자와 숫자에는 특별한 관계가 있습니다. Google에서 아스키 코드를 참고하세요**\n",
    "\n",
    "```python\n",
    "# 예시\n",
    "print(my_swapcase('hello, World!')) # => HELLO, wORLD!\n",
    "print(my_swapcase('@_@')) # => @_@\n",
    "print(my_swapcase('2^3은 8이다!')) # => 2^3은 8이다!\n",
    "```"
   ]
  },
  {
   "cell_type": "code",
   "execution_count": 103,
   "metadata": {},
   "outputs": [],
   "source": [
    "# 아래에 코드를 작성해주세요.\n",
    "def my_swapcase(words):\n",
    "    result = ''\n",
    "    for word in words:\n",
    "        number = ord(word)\n",
    "        if 122 >= number >= 97:\n",
    "            number -= 32\n",
    "            result += chr(number)\n",
    "        elif 90 >= number >= 65:\n",
    "            number += 32\n",
    "            result += chr(number)\n",
    "        else:\n",
    "            result += chr(number)\n",
    "    return result"
   ]
  },
  {
   "cell_type": "code",
   "execution_count": 107,
   "metadata": {},
   "outputs": [],
   "source": [
    "# 선생님 코드\n",
    "def my_swapcase(words):\n",
    "    # +32 대문자 -> 소문자\n",
    "    # -32 소문자 -> 대문자\n",
    "    result = ''\n",
    "    for char in words:\n",
    "        # 만약에 대문자라면,\n",
    "        if 65 <= ord(char) <= 90:\n",
    "            result += chr(ord(char) + 32)\n",
    "        elif 97 <= ord(char) <= 122:\n",
    "            result += chr(ord(char) - 32)\n",
    "        else:\n",
    "            result += char\n",
    "    return result"
   ]
  },
  {
   "cell_type": "code",
   "execution_count": 108,
   "metadata": {},
   "outputs": [
    {
     "name": "stdout",
     "output_type": "stream",
     "text": [
      "HELLO, wORLD!\n",
      "@_@\n",
      "2^3은 8이다!\n"
     ]
    }
   ],
   "source": [
    "print(my_swapcase('hello, World!'))\n",
    "print(my_swapcase('@_@'))\n",
    "print(my_swapcase('2^3은 8이다!'))"
   ]
  },
  {
   "cell_type": "markdown",
   "metadata": {},
   "source": [
    "# 메소드 없는 세상 <2>\n",
    "\n",
    "> 우리는 문자열을 만들어 나갈 때, `.join(iterable)` 함수를 사용합니다. \n",
    ">\n",
    "> `.join(iterable)`이 생각나지 않을 때를 위해 직접 만들어보면서 감사함을 느껴봅시다.\n",
    ">\n",
    "> `my_join(target, word)`를 만들어 문자열을 반환해주세요.\n",
    ">\n",
    "> target은 바꿀 대상(iterable)이며, word는 합쳐지는 단어입니다. \n",
    "\n",
    "---\n",
    "\n",
    "\n",
    "예시)\n",
    "\n",
    "`''.join(a)` 와 `my_join(a, '')`은 같은 함수 호출입니다.\n",
    "\n",
    "```python\n",
    "print(my_join('배고파', '.')) # => 배.고.파\n",
    "print(my_join(['1', '2', '3'], '')) # => 123\n",
    "```"
   ]
  },
  {
   "cell_type": "code",
   "execution_count": 3,
   "metadata": {},
   "outputs": [],
   "source": [
    "# 아래에 코드를 작성해주세요.\n",
    "def my_join(target, word):\n",
    "    words = ''\n",
    "    count = 0\n",
    "    for string in target:\n",
    "        count += 1\n",
    "        words += (string + word) if count != len(target) else string\n",
    "    return words"
   ]
  },
  {
   "cell_type": "code",
   "execution_count": 111,
   "metadata": {},
   "outputs": [],
   "source": [
    "# 선생님 코드\n",
    "def my_join(target, word):\n",
    "    result = ''\n",
    "    for idx, char in enumerate(target):\n",
    "        # 난 지금 마지막 횟수인 것을 알고 싶다... \n",
    "        # => 반복문 돌 때마다 카운트, 마지막일 때 len(target)\n",
    "        result += (char + word) if idx + 1 !=len(target) else char\n",
    "    return result"
   ]
  },
  {
   "cell_type": "code",
   "execution_count": null,
   "metadata": {},
   "outputs": [],
   "source": [
    "# 선생님 코드 다른 방법\n",
    "def my_join(target, word):\n",
    "    result = ''\n",
    "    for char in target:\n",
    "        result += char + word\n",
    "    return result[:-1] if result[-1] == word else result"
   ]
  },
  {
   "cell_type": "markdown",
   "metadata": {},
   "source": [
    "```python\n",
    "enumerate() # idx(순서 번호), value(값) \n",
    "```"
   ]
  },
  {
   "cell_type": "code",
   "execution_count": 113,
   "metadata": {},
   "outputs": [],
   "source": [
    "# 선생님 코드 다른 방법 2\n",
    "def my_join(target, word):\n",
    "    result = target[0]\n",
    "    for char in target[1:]:\n",
    "        result += word + char\n",
    "    return result"
   ]
  },
  {
   "cell_type": "code",
   "execution_count": 112,
   "metadata": {},
   "outputs": [
    {
     "name": "stdout",
     "output_type": "stream",
     "text": [
      "배.고.파\n",
      "123\n"
     ]
    }
   ],
   "source": [
    "print(my_join('배고파', '.'))\n",
    "print(my_join(['1', '2', '3'], ''))"
   ]
  },
  {
   "cell_type": "markdown",
   "metadata": {},
   "source": [
    "#  가능한 적게 변경하기\n",
    "\n",
    "> 대문자와 소문자가 혼합되어 있는 문자열어 주어지며\n",
    ">\n",
    "> 다음의 기준에 따라서 문자열을 소문자 혹은 대문자로 변환하세요.\n",
    "\n",
    "\n",
    "*  가능한 적게 변경하세요.\n",
    "*  만약에 문자열의 대문자 혹은 소문자가 같다면, 문자열을 모두 소문자로 변경하세요.\n",
    "\n",
    "--- \n",
    "\n",
    "```python\n",
    "# 예시 입력) \n",
    "print(solve('coDe'))\n",
    "print(solve('CODe'))\n",
    "print(solve('coDE'))\n",
    "\n",
    "# 예시 출력)\n",
    "'code'\n",
    "'CODE'\n",
    "'code'\n",
    "```"
   ]
  },
  {
   "cell_type": "code",
   "execution_count": 7,
   "metadata": {},
   "outputs": [],
   "source": [
    "# 아래에 코드를 작성해주세요.\n",
    "def solve(word):\n",
    "    words = ''\n",
    "    big = 0\n",
    "    small = 0\n",
    "    for string in word:\n",
    "        number = ord(string)\n",
    "        if 122 >= number >= 97:\n",
    "            small += 1\n",
    "        elif 90>= number >= 65:\n",
    "            big += 1\n",
    "    if big > small:\n",
    "        for string in word:\n",
    "            number = ord(string)\n",
    "            if 122 >= number >= 97:\n",
    "                number -= 32\n",
    "                words += chr(number)\n",
    "            else:\n",
    "                words += chr(number)\n",
    "    else:\n",
    "        for string in word:\n",
    "            number = ord(string)\n",
    "            if 90 >= number >= 65:\n",
    "                number += 32\n",
    "                words += chr(number)\n",
    "            else:\n",
    "                words += chr(number)\n",
    "    return words"
   ]
  },
  {
   "cell_type": "code",
   "execution_count": 120,
   "metadata": {},
   "outputs": [],
   "source": [
    "# 선생님 코드\n",
    "def solve(word):\n",
    "    count = sum(1 for char in word if char.isupper()) # 대문자 갯수\n",
    "    if count > (len(word) / 2): # 조건에 대소문자 밖에 없으니 2로 나눠서 확인\n",
    "        return word.upper()\n",
    "    else:\n",
    "        return word.lower()"
   ]
  },
  {
   "cell_type": "code",
   "execution_count": 121,
   "metadata": {},
   "outputs": [
    {
     "name": "stdout",
     "output_type": "stream",
     "text": [
      "code\n",
      "CODE\n",
      "code\n"
     ]
    }
   ],
   "source": [
    "print(solve('coDe'))\n",
    "print(solve('CODe'))\n",
    "print(solve('coDE'))"
   ]
  },
  {
   "cell_type": "markdown",
   "metadata": {},
   "source": [
    "# 숨바꼭질\n",
    "\n",
    "> 숫자가 주어지면, 사용되지 않은 숫자를 프린트하세요.\n",
    "\n",
    "---\n",
    "\n",
    "```python\n",
    "# 예시)\n",
    "unused_digits(12, 34, 56, 78) # => '09'\n",
    "\n",
    "unused_digits(2015, 8, 26)  # => '3479'\n",
    "```\n",
    "\n",
    "\n",
    "**결과값은 정렬되어야 합니다.**\n",
    "\n"
   ]
  },
  {
   "cell_type": "code",
   "execution_count": 21,
   "metadata": {},
   "outputs": [],
   "source": [
    "# 아래에 코드를 작성해주세요.\n",
    "def unused_digits(*numbers):\n",
    "    result = '0123456789'\n",
    "    for number in numbers:\n",
    "        for num in str(number):\n",
    "            result = result.replace(num, '')\n",
    "    return result"
   ]
  },
  {
   "cell_type": "code",
   "execution_count": 124,
   "metadata": {},
   "outputs": [],
   "source": [
    "# 선생님 코드\n",
    "def unused_digits(*numbers):\n",
    "    result = set('0123456789')\n",
    "    for num in numbers:\n",
    "        result -= set(str(num))\n",
    "    return ''.join(sorted(result))"
   ]
  },
  {
   "cell_type": "code",
   "execution_count": 125,
   "metadata": {},
   "outputs": [
    {
     "name": "stdout",
     "output_type": "stream",
     "text": [
      "09\n",
      "3479\n"
     ]
    }
   ],
   "source": [
    "print(unused_digits(12, 34, 56, 78))\n",
    "print(unused_digits(2015, 8, 26))"
   ]
  },
  {
   "cell_type": "markdown",
   "metadata": {},
   "source": [
    "# 짝홀짝홀"
   ]
  },
  {
   "cell_type": "markdown",
   "metadata": {},
   "source": [
    "> n개의 양의 정수 리스트가 주어지면, 홀수와 짝수를 분리하고 각각의 조건에 맞게 홀수와 짝수를 \n",
    "정렬하세요.\n",
    "\n",
    "> 조건\n",
    "1. 짝수와 홀수가 번갈아 가면서 나오게 됩니다.\n",
    "2. 짝수가 먼저 시작됩니다.\n",
    "3. 짝수는 오름차순으로 홀수는 내림차순으로 되어야합니다.\n",
    "\n",
    "> 실습 입력 인자 조건\n",
    "1. 인자 리스트의 크기는 적어도 4이상입니다.\n",
    "2. 인자 리스트의 요소값으로 0은 존재하지 않습니다.\n",
    "3. 인자 리스트의 요소값이 반복될 수 있으나 출력할 때는 중복 값이 없습니다.\n",
    "\n",
    "```python\n",
    "# 예시) \n",
    "\n",
    "print(even_and_odd([7, 3 , 14 , 17]))\n",
    "# => [14, 17, 7, 3]\n",
    "\n",
    "print(even_and_odd([1, 3, 5, 7, 9, 11]))\n",
    "# => [11, 9, 7, 5, 3, 1]\n",
    "\n",
    "print(even_and_odd([1, 2, 2, 4, 4, 6, 6, 2004, 9, 11]))\n",
    "# => [2, 11, 4, 9, 6, 1, 2004]\n",
    "```"
   ]
  },
  {
   "cell_type": "code",
   "execution_count": 5,
   "metadata": {},
   "outputs": [],
   "source": [
    "# 여기에 코드를 작성하세요\n",
    "def even_and_odd(input_list):\n",
    "    result = []\n",
    "    odd_set = set([number for number in input_list if number % 2])\n",
    "    even_set = set([number for number in input_list if not number % 2])\n",
    "    odd = list(odd_set)\n",
    "    even = list(even_set)\n",
    "    odd.sort()\n",
    "    odd.reverse()\n",
    "    even.sort()\n",
    "    for i in range(len(input_list)):\n",
    "        if i < len(even):\n",
    "            result.append(even[i])\n",
    "        if i < len(odd):\n",
    "            result.append(odd[i])     \n",
    "    return result"
   ]
  },
  {
   "cell_type": "code",
   "execution_count": 7,
   "metadata": {},
   "outputs": [],
   "source": [
    "# 선생님 코드\n",
    "def even_and_odd(numbers):\n",
    "    # 1. 짝수/홀수 분리 - 정렬+중복 제거\n",
    "    even = [i for i in sorted((set(numbers))) if not i % 2]\n",
    "    odd = [i for i in sorted((set(numbers))) if i % 2][::-1]\n",
    "    # 2. 결과를 만든다.\n",
    "    # 짝수랑 홀수 길이 중 큰 것으로 돌린다. or 작은 것으로 돌린다.\n",
    "    if len(even) > len(odd): # 짝수가 더 기니까\n",
    "        tmp = even[len(odd):] # 홀수 길이 이후 것을 따로 저장\n",
    "        even = even[:len(odd)] # 홀수 길이만큼 저장\n",
    "    else:\n",
    "        tmp = odd[len(even):] # 홀수 길이 이후 것을 따로 저장\n",
    "        odd = odd[:len(even)] # 홀수 길이만큼 저장\n",
    "        \n",
    "    # 결과통\n",
    "    result = []\n",
    "    for even_num, odd_num in zip(even, odd):\n",
    "        result.append(even_num)\n",
    "        result.append(odd_num)\n",
    "        \n",
    "    return result + tmp"
   ]
  },
  {
   "cell_type": "code",
   "execution_count": null,
   "metadata": {},
   "outputs": [],
   "source": [
    "a[-1] # 마지막 것\n",
    "a[:-1] # 마지막 것만 빼고\n",
    "a[::-1] # 마지막 것 부터"
   ]
  },
  {
   "cell_type": "code",
   "execution_count": 8,
   "metadata": {
    "scrolled": true
   },
   "outputs": [
    {
     "name": "stdout",
     "output_type": "stream",
     "text": [
      "[14, 17, 7, 3]\n",
      "[11, 9, 7, 5, 3, 1]\n",
      "[2, 11, 4, 9, 6, 1, 2004]\n"
     ]
    }
   ],
   "source": [
    "print(even_and_odd([7, 3, 14, 17]))\n",
    "print(even_and_odd([1, 3, 5, 7, 9, 11]))\n",
    "print(even_and_odd([1, 2, 2, 4, 4, 6, 6, 2004, 9, 11]))"
   ]
  },
  {
   "cell_type": "markdown",
   "metadata": {},
   "source": [
    "# 문자열 계산하기\n",
    "\n",
    "> 아래와 같이 문자열이 주어졌을 때, 바보같은 사용자를 위해 계산을 해주려고 한다.\n",
    ">\n",
    "> 이 계산기는 더하기와 빼기밖에 못한다.\n",
    ">\n",
    "> `calc(equation)`을 만들어봅시다.\n",
    "\n",
    "\n",
    "```python\n",
    "# 예시\n",
    "calc('123+2-124')\n",
    "#=> 1\n",
    "\n",
    "calc('-12+12-7979+9191')\n",
    "#=> 1212\n",
    "\n",
    "calc('+1-1+1-1+1-1+1-1+1-1+1-1+1-1+1-1+1-1+1-1+1-1+1-1+1-1+1-1+1-1+1-1')\n",
    "#=> 0\n",
    "```"
   ]
  },
  {
   "cell_type": "code",
   "execution_count": 130,
   "metadata": {},
   "outputs": [],
   "source": [
    "def calc(equation):\n",
    "    result_num = 0\n",
    "    input_num = '0'\n",
    "    for string in equation:\n",
    "        if string in '+-':\n",
    "            result_num += int(input_num)\n",
    "            input_num = string\n",
    "        else:\n",
    "            input_num += string\n",
    "    return result_num + int(input_num)"
   ]
  },
  {
   "cell_type": "code",
   "execution_count": 128,
   "metadata": {},
   "outputs": [],
   "source": [
    "def calc(equation):\n",
    "    # 결과 통 : 숫자\n",
    "    result_num = 0\n",
    "    # 임시 통 -> 부호를 만나기 전까지 숫자들을 기록\n",
    "    tmp = '0'\n",
    "    for char in equation:\n",
    "        if not char.isdecimal(): # if not char in '0123456789'\n",
    "            # 부호를 만난 거니까...\n",
    "            # result에 숫자를 더해서 만들고,\n",
    "            result_num += int(input_num)\n",
    "            # tmp 초기화\n",
    "            tmp = char\n",
    "        else:\n",
    "            input_num += string\n",
    "    return result_num += int(input_num)"
   ]
  },
  {
   "cell_type": "code",
   "execution_count": 131,
   "metadata": {
    "scrolled": true
   },
   "outputs": [
    {
     "name": "stdout",
     "output_type": "stream",
     "text": [
      "1\n",
      "1212\n",
      "0\n"
     ]
    }
   ],
   "source": [
    "print(calc('123+2-124'))\n",
    "print(calc('-12+12-7979+9191'))\n",
    "print(calc('+1-1+1-1+1-1+1-1+1-1+1-1+1-1+1-1+1-1+1-1+1-1+1-1+1-1+1-1+1-1+1-1'))"
   ]
  }
 ],
 "metadata": {
  "kernelspec": {
   "display_name": "Python 3",
   "language": "python",
   "name": "python3"
  },
  "language_info": {
   "codemirror_mode": {
    "name": "ipython",
    "version": 3
   },
   "file_extension": ".py",
   "mimetype": "text/x-python",
   "name": "python",
   "nbconvert_exporter": "python",
   "pygments_lexer": "ipython3",
   "version": "3.7.3"
  },
  "latex_envs": {
   "LaTeX_envs_menu_present": true,
   "autoclose": false,
   "autocomplete": true,
   "bibliofile": "biblio.bib",
   "cite_by": "apalike",
   "current_citInitial": 1,
   "eqLabelWithNumbers": true,
   "eqNumInitial": 1,
   "hotkeys": {
    "equation": "Ctrl-E",
    "itemize": "Ctrl-I"
   },
   "labels_anchors": false,
   "latex_user_defs": false,
   "report_style_numbering": false,
   "user_envs_cfg": false
  },
  "toc": {
   "base_numbering": 1,
   "nav_menu": {},
   "number_sections": true,
   "sideBar": true,
   "skip_h1_title": false,
   "title_cell": "Table of Contents",
   "title_sidebar": "Contents",
   "toc_cell": false,
   "toc_position": {},
   "toc_section_display": true,
   "toc_window_display": false
  }
 },
 "nbformat": 4,
 "nbformat_minor": 2
}
