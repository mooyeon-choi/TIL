{
 "cells": [
  {
   "cell_type": "markdown",
   "metadata": {},
   "source": [
    "# Python 4. 함수 II\n",
    "* 학습해야 할 내용\n",
    "    * 함수\n",
    "    * 재귀 함수"
   ]
  },
  {
   "cell_type": "markdown",
   "metadata": {},
   "source": [
    "1. Python에서 변수를 찾을 때 접근하는 이름 공간을 순서대로 작성하시오."
   ]
  },
  {
   "cell_type": "markdown",
   "metadata": {},
   "source": [
    "Local scope: 정의된 함수  \n",
    "Enclosed scope: 상위 함수  \n",
    "Global scope: 함수 밖의 변수 혹은 import된 모듈  \n",
    "Built-in scope: 파이썬안에 내장되어 있는 함수 또는 속성"
   ]
  },
  {
   "cell_type": "markdown",
   "metadata": {},
   "source": [
    "2. 다음 중 옳지 않은 것을 고르시오.  \n",
    "(1) 함수는 오직 하나의 객체만 반환할 수 있어서, 'return a, b'처럼 쓸 수 없다.  \n",
    "(2) 함수에서 return을 작성하지 않으면 None 값을 반환한다.  \n",
    "(3) 함수의 인자(parameter)는 함수를 선언할 때 설정한 값이며,  \n",
    "    인수(argument)는 함수를 호출할 때 넘겨주는 값이다.  \n",
    "(4) 가변 인자를 설정할 때는 인자 앞에 \\*을 붙이고, 이 때는 함수 내에서 tuple로 처리된다."
   ]
  },
  {
   "cell_type": "markdown",
   "metadata": {},
   "source": [
    "(1) 함수는 오직 하나의 객체만 반환할 수 있어서, 'return a, b'처럼 쓸 수 없다.\n",
    "return a, b로 쓰면 (a, b)의 튜플이 리턴된다."
   ]
  },
  {
   "cell_type": "code",
   "execution_count": 4,
   "metadata": {},
   "outputs": [],
   "source": [
    "def hi():\n",
    "    return 1, 2"
   ]
  },
  {
   "cell_type": "code",
   "execution_count": 5,
   "metadata": {},
   "outputs": [
    {
     "name": "stdout",
     "output_type": "stream",
     "text": [
      "(1, 2)\n"
     ]
    }
   ],
   "source": [
    "x = hi()\n",
    "print(x)"
   ]
  },
  {
   "cell_type": "markdown",
   "metadata": {},
   "source": [
    "3. 재귀 함수를 쓰는 장점과 단점을 작성하시오.  \n",
    "(1) 장점:  \n",
    "    코드가 더 직관적이고 이해하기 쉬운 경우가 있음. (하지만, 만들기는 어려움)  \n",
    "(2) 단점:  \n",
    "    Python Tutor에 보면, 함수가 호출될 때마다 메모리 공간에 쌓이는 것을 볼 수 있다.\n",
    "이 경우, 메모리 스택이 넘치거나(Stack overflow) 프로그램 실행 속도가 늘어지는 단점이 생긴다. 따라서 파이썬에서는 1000번까지만 실행이 된다."
   ]
  }
 ],
 "metadata": {
  "kernelspec": {
   "display_name": "Python 3",
   "language": "python",
   "name": "python3"
  },
  "language_info": {
   "codemirror_mode": {
    "name": "ipython",
    "version": 3
   },
   "file_extension": ".py",
   "mimetype": "text/x-python",
   "name": "python",
   "nbconvert_exporter": "python",
   "pygments_lexer": "ipython3",
   "version": "3.7.3"
  },
  "toc": {
   "base_numbering": 1,
   "nav_menu": {},
   "number_sections": true,
   "sideBar": true,
   "skip_h1_title": false,
   "title_cell": "Table of Contents",
   "title_sidebar": "Contents",
   "toc_cell": false,
   "toc_position": {},
   "toc_section_display": true,
   "toc_window_display": false
  }
 },
 "nbformat": 4,
 "nbformat_minor": 2
}
