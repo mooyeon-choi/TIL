{
 "cells": [
  {
   "cell_type": "markdown",
   "metadata": {},
   "source": [
    "# 불쌍한 달팽이\n",
    "\n",
    ">달팽이는 낮 시간 동안에 기둥을 올라갑니다. 하지만 밤에는 잠을 자면서 어느 정도의 거리만큼미끄러집니다. (낮 시간 동안 올라간 거리보다는 적게 미끄러집니다) 달팽이가 기둥의 꼭대기에 도달하는 날까지 걸리는 시간을 계산하면 됩니다.\n",
    "\n",
    "> 함수에 들어가야 하는 3개의 인자는 다음과 같습니다.\n",
    "- 기둥의 높이(미터)\n",
    "- 낮 시간 동안 달팽이가 올라가는 거리(미터)\n",
    "- 달팽이가 야간에 잠을 자는 동안 미끄러지는 거리(미터)\n",
    "\n",
    "```python\n",
    "snail(100, 5, 2)\n",
    "# => 33\n",
    "```"
   ]
  },
  {
   "cell_type": "code",
   "execution_count": 1,
   "metadata": {},
   "outputs": [],
   "source": [
    "# 내 코드\n",
    "def snail(m, up, low):\n",
    "    for day in range(m):\n",
    "        m -= up\n",
    "        if m <= 0:\n",
    "            return day + 1\n",
    "        m += low"
   ]
  },
  {
   "cell_type": "code",
   "execution_count": 20,
   "metadata": {},
   "outputs": [],
   "source": [
    "# 선생님 코드\n",
    "def snail(height, day, night):\n",
    "    # 날짜 지난 것 기록\n",
    "    count = 0\n",
    "    while True:\n",
    "        count += 1\n",
    "        # 낮, 가야할 높이가 낮아짐\n",
    "        height -= day\n",
    "        # 올라갔는지 확인\n",
    "        if height <= 0:\n",
    "            return count\n",
    "        # 밤, 가야할 높이가 높아짐:\n",
    "        height += night"
   ]
  },
  {
   "cell_type": "code",
   "execution_count": 21,
   "metadata": {},
   "outputs": [
    {
     "name": "stdout",
     "output_type": "stream",
     "text": [
      "33\n",
      "4998\n"
     ]
    }
   ],
   "source": [
    "# 해당 코드를 통해 올바른 결과가 나오는지 확인하세요.\n",
    "print(snail(100, 5, 2))\n",
    "print(snail(10000, 7, 5))"
   ]
  },
  {
   "cell_type": "markdown",
   "metadata": {},
   "source": [
    "# 편-안한 단어\n",
    "\n",
    "> (QWERTY 키보드를 사용하여 타이핑을 한다고 가정할 때) '편안한 단어'는 타이핑 할 때 **손을 번갈아 칠 수 있는 단어**를 말합니다.\n",
    ">\n",
    "> 단어를 인자로 받아 그것이 '편안한 단어'인지 여부를 True/False로 반환하는 함수를 만드세요.(모든 단어는 a ~ z까지 오름차순으로 구성된 문자열입니다.)\n",
    "\n",
    "> 문자 목록\n",
    "- 왼손: q, w, e, r, t, a, s, d, f, g, z, x, c, v, b\n",
    "- 오른손: y, u, i, o, p, h, j, k, l, n, m"
   ]
  },
  {
   "cell_type": "code",
   "execution_count": 18,
   "metadata": {},
   "outputs": [],
   "source": [
    "# 내 코드\n",
    "def comfortable_word(string):\n",
    "    left_list = ['q', 'w', 'e', 'r', 't', 'a', 's', 'd', 'f', 'g', 'z', 'x', 'c', 'v', 'b']\n",
    "    right_list = ['y', 'u', 'i', 'o', 'p', 'h', 'j', 'k', 'l', 'n', 'm']\n",
    "    hand = 0\n",
    "    for word in string:\n",
    "        if hand == 0:            # 왼손 -1 오른손 1\n",
    "            if word in left_list:\n",
    "                hand = -1\n",
    "            elif word in right_list:\n",
    "                hand = 1\n",
    "            else:\n",
    "                return '잘못입력하셨습니다.'\n",
    "        elif hand == -1:\n",
    "            if word in left_list:\n",
    "                return False\n",
    "            elif word in right_list:\n",
    "                hand = 1\n",
    "            else:\n",
    "                return '잘못입력하셨습니다.'\n",
    "        else:\n",
    "            if word in left_list:\n",
    "                hand = -1\n",
    "            elif word in right_list:\n",
    "                return False\n",
    "            else:\n",
    "                return '잘못입력하셨습니다.'\n",
    "    return True"
   ]
  },
  {
   "cell_type": "code",
   "execution_count": 22,
   "metadata": {},
   "outputs": [],
   "source": [
    "# 선생님 코드\n",
    "def comfortable_word(word):\n",
    "    # 왼손 문자 목록, 오른손 문자 목록\n",
    "    left_word, right_word = 'qwertasdfgzxcvb', 'yuiophjklnm'\n",
    "    # 하나씩 반복하는데, 필요한 것은 이전 문자의 왼쪽인지 오른쪽인지의 여부\n",
    "    is_left = True if word[0] in left_word else False # 초기 값을 지정\n",
    "    for char in word[1:]: # 두번째부터 확인\n",
    "        # 만약에 이전것이 왼쪽이고, 지금 단어가 왼쪽이면 종료(False)\n",
    "        if is_left and char in left_word:\n",
    "            return False\n",
    "        # 오른쪽 - 오른쪽이면 종료(False)\n",
    "        if not is_left and char in right_word:\n",
    "            return False\n",
    "        # 맞으면, 왼-오 바꾸기\n",
    "        is_left = not is_left\n",
    "    # 종료 안되었으면 True\n",
    "    return True"
   ]
  },
  {
   "cell_type": "code",
   "execution_count": 24,
   "metadata": {},
   "outputs": [
    {
     "name": "stdout",
     "output_type": "stream",
     "text": [
      "True\n",
      "False\n"
     ]
    }
   ],
   "source": [
    "# 해당 코드를 통해 올바른 결과가 나오는지 확인하세요.\n",
    "print(comfortable_word('qywu'))\n",
    "print(comfortable_word('apple'))"
   ]
  },
  {
   "cell_type": "markdown",
   "metadata": {},
   "source": [
    "# 숫자패턴\n",
    "\n",
    ">원하는 행까지 아래의 패턴을 생성하는 함수를 작성하세요. 만약 인자가 0이나 음의 정수인 경우 빈 문자열('')로 반환하세요.\n",
    "> \n",
    "> 짝수가 인수로 전달되면 패턴은 통과된 짝수보다 작은 최대 홀수까지 계속되어야 합니다.\n",
    "\n",
    "```python\n",
    "# 예시 \n",
    "print(pattern(9))\n",
    "\n",
    "1\n",
    "333\n",
    "55555\n",
    "7777777\n",
    "999999999\n",
    "\n",
    "print(pattern(6))\n",
    "1\n",
    "333\n",
    "55555\n",
    "```\n",
    "**유의!**\n",
    "패턴에 공백은 없습니다."
   ]
  },
  {
   "cell_type": "code",
   "execution_count": 12,
   "metadata": {},
   "outputs": [],
   "source": [
    "# 여기에 코드를 작성하세요\n",
    "def pattern(number):\n",
    "    num_str = '1'\n",
    "    \n",
    "    if number <= 0:\n",
    "        return ''\n",
    "    elif number == 1:\n",
    "        return num_str\n",
    "    \n",
    "    for num in range(2, number + 1):\n",
    "        if num % 2:\n",
    "            num_str += '\\n'+ str(num) * num\n",
    "    return num_str"
   ]
  },
  {
   "cell_type": "code",
   "execution_count": 31,
   "metadata": {},
   "outputs": [],
   "source": [
    "# 선생님 코드\n",
    "def pattern(number):\n",
    "    if number <= 0:\n",
    "        return ''\n",
    "    # 문자열 통\n",
    "    result = ''\n",
    "    # 1 ~ 해당 숫자까지 반복\n",
    "    for i in range(1, number + 1):\n",
    "        # 홀수면\n",
    "        if i % 2:\n",
    "            result += str(i)*i\n",
    "            if i != number:\n",
    "                result += '\\n'\n",
    "    return result"
   ]
  },
  {
   "cell_type": "code",
   "execution_count": 37,
   "metadata": {},
   "outputs": [],
   "source": [
    "# 선생님 코드 2\n",
    "def pattern(number):\n",
    "    return '\\n'.join([str(i)*i for i in range(1, number + 1, 2)]) if number > 0 else ''"
   ]
  },
  {
   "cell_type": "code",
   "execution_count": 38,
   "metadata": {
    "scrolled": true
   },
   "outputs": [
    {
     "name": "stdout",
     "output_type": "stream",
     "text": [
      "1\n",
      "333\n",
      "55555\n",
      "7777777\n",
      "999999999\n",
      "\n",
      "1\n",
      "333\n",
      "55555\n"
     ]
    }
   ],
   "source": [
    "# 해당 코드를 통해 올바른 결과가 나오는지 확인하세요.\n",
    "print(pattern(9))\n",
    "print(pattern(-6))\n",
    "print(pattern(6))"
   ]
  }
 ],
 "metadata": {
  "kernelspec": {
   "display_name": "Python 3",
   "language": "python",
   "name": "python3"
  },
  "language_info": {
   "codemirror_mode": {
    "name": "ipython",
    "version": 3
   },
   "file_extension": ".py",
   "mimetype": "text/x-python",
   "name": "python",
   "nbconvert_exporter": "python",
   "pygments_lexer": "ipython3",
   "version": "3.7.3"
  },
  "toc": {
   "base_numbering": 1,
   "nav_menu": {},
   "number_sections": true,
   "sideBar": true,
   "skip_h1_title": false,
   "title_cell": "Table of Contents",
   "title_sidebar": "Contents",
   "toc_cell": false,
   "toc_position": {},
   "toc_section_display": true,
   "toc_window_display": false
  }
 },
 "nbformat": 4,
 "nbformat_minor": 2
}
