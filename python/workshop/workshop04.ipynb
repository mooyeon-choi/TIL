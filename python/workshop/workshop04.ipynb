{
 "cells": [
  {
   "cell_type": "markdown",
   "metadata": {},
   "source": [
    "# Python 4. 함수\n",
    "* 양의 정수 x를 입력 받아 제곱근의 근사값을 반환하는 함수를 작성하세요.\n",
    "* sqrt() 사용 금지"
   ]
  },
  {
   "cell_type": "code",
   "execution_count": 12,
   "metadata": {},
   "outputs": [],
   "source": [
    "def my_sqrt(n):\n",
    "    a, b = 1, n\n",
    "    result = 1\n",
    "    while abs(result**2 - n) >= 1e-10:\n",
    "            result = (a+b)/2\n",
    "            if result**2 < n:\n",
    "                a = result\n",
    "            else:\n",
    "                b = result\n",
    "            print(result)\n",
    "    return result"
   ]
  },
  {
   "cell_type": "code",
   "execution_count": 14,
   "metadata": {},
   "outputs": [
    {
     "name": "stdout",
     "output_type": "stream",
     "text": [
      "3.0\n",
      "2.0\n",
      "2.5\n",
      "2.25\n",
      "2.125\n",
      "2.1875\n",
      "2.21875\n",
      "2.234375\n",
      "2.2421875\n",
      "2.23828125\n",
      "2.236328125\n",
      "2.2353515625\n",
      "2.23583984375\n",
      "2.236083984375\n",
      "2.2359619140625\n",
      "2.23602294921875\n",
      "2.236053466796875\n",
      "2.2360687255859375\n",
      "2.2360610961914062\n",
      "2.236064910888672\n",
      "2.2360668182373047\n",
      "2.236067771911621\n",
      "2.2360682487487793\n",
      "2.2360680103302\n",
      "2.2360678911209106\n",
      "2.2360679507255554\n",
      "2.236067980527878\n",
      "2.2360679656267166\n",
      "2.236067973077297\n",
      "2.2360679768025875\n",
      "2.2360679786652327\n",
      "2.23606797773391\n",
      "2.236067977268249\n",
      "2.2360679775010794\n"
     ]
    },
    {
     "data": {
      "text/plain": [
       "2.2360679775010794"
      ]
     },
     "execution_count": 14,
     "metadata": {},
     "output_type": "execute_result"
    }
   ],
   "source": [
    "my_sqrt(5)"
   ]
  },
  {
   "cell_type": "code",
   "execution_count": null,
   "metadata": {},
   "outputs": [],
   "source": []
  }
 ],
 "metadata": {
  "kernelspec": {
   "display_name": "Python 3",
   "language": "python",
   "name": "python3"
  },
  "language_info": {
   "codemirror_mode": {
    "name": "ipython",
    "version": 3
   },
   "file_extension": ".py",
   "mimetype": "text/x-python",
   "name": "python",
   "nbconvert_exporter": "python",
   "pygments_lexer": "ipython3",
   "version": "3.7.3"
  },
  "toc": {
   "base_numbering": 1,
   "nav_menu": {},
   "number_sections": true,
   "sideBar": true,
   "skip_h1_title": false,
   "title_cell": "Table of Contents",
   "title_sidebar": "Contents",
   "toc_cell": false,
   "toc_position": {},
   "toc_section_display": true,
   "toc_window_display": false
  }
 },
 "nbformat": 4,
 "nbformat_minor": 2
}
